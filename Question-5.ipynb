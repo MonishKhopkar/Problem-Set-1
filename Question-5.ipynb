{
 "cells": [
  {
   "cell_type": "markdown",
   "metadata": {},
   "source": [
    "# Question 5\n",
    "\n",
    "File bloodtype1.txt records blood-types of patients (A, B, AB, O or OO) at a clinic.\n",
    "Write a function bldcount() that reads the file with name name and reports (i.e.,\n",
    "prints) how many patients there are in each bloodtype."
   ]
  },
  {
   "cell_type": "code",
   "execution_count": 1,
   "metadata": {},
   "outputs": [
    {
     "name": "stdout",
     "output_type": "stream",
     "text": [
      "There are  13  pateients of blood type  AB\n",
      "There are  1  pateients of blood type  B\n",
      "There are  15  pateients of blood type  O\n",
      "There are  15  pateients of blood type  A\n"
     ]
    }
   ],
   "source": [
    "infile=open(\"bloodtype.txt\",\"r\")\n",
    "counter=0\n",
    "d=dict()\n",
    "for char in infile:\n",
    "    char=char.strip()\n",
    "    \n",
    "    words=char.split(\" \")\n",
    "    \n",
    "    \n",
    "    for word in words: \n",
    "        \n",
    "        if word in d: \n",
    "         \n",
    "            d[word] = d[word] + 1\n",
    "        else: \n",
    "             \n",
    "            d[word] = 1\n",
    "for key in list(d.keys()): \n",
    "    print(\"There are \",d[key],\" pateients of blood type \", key) \n",
    "infile.close()      "
   ]
  },
  {
   "cell_type": "code",
   "execution_count": null,
   "metadata": {},
   "outputs": [],
   "source": []
  }
 ],
 "metadata": {
  "kernelspec": {
   "display_name": "Python 3",
   "language": "python",
   "name": "python3"
  },
  "language_info": {
   "codemirror_mode": {
    "name": "ipython",
    "version": 3
   },
   "file_extension": ".py",
   "mimetype": "text/x-python",
   "name": "python",
   "nbconvert_exporter": "python",
   "pygments_lexer": "ipython3",
   "version": "3.7.6"
  }
 },
 "nbformat": 4,
 "nbformat_minor": 4
}
