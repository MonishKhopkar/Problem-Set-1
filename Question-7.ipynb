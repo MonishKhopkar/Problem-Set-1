{
 "cells": [
  {
   "cell_type": "markdown",
   "metadata": {},
   "source": [
    "# Question 7\n",
    "\n",
    "Each of the following will cause an exception (an error). Identify what type of\n",
    "exception each will cause."
   ]
  },
  {
   "cell_type": "markdown",
   "metadata": {},
   "source": [
    "|          Error          |       Type of Exception         |\n",
    "|---------------------------------------|-------------------|\n",
    "|Trying to addincompatible variables,as inadding 6 + ‘a’|TypeError|\n",
    "|Referring to the 12th item of a list that has only 10 items|IndexError|\n",
    "|Using a value that is out of range for a function’s input, such as calling math.sqrt(-1.0)|ValueError|\n",
    "|Using an undeclared variable, such as print(x) when x has not been defined|NameError| \n",
    "|Trying to open a file that does not exist, such as mistyping the file name or looking in the wrong directory.|FileNotFoundError|"
   ]
  },
  {
   "cell_type": "code",
   "execution_count": null,
   "metadata": {},
   "outputs": [],
   "source": []
  }
 ],
 "metadata": {
  "kernelspec": {
   "display_name": "Python 3",
   "language": "python",
   "name": "python3"
  },
  "language_info": {
   "codemirror_mode": {
    "name": "ipython",
    "version": 3
   },
   "file_extension": ".py",
   "mimetype": "text/x-python",
   "name": "python",
   "nbconvert_exporter": "python",
   "pygments_lexer": "ipython3",
   "version": "3.7.6"
  }
 },
 "nbformat": 4,
 "nbformat_minor": 4
}
