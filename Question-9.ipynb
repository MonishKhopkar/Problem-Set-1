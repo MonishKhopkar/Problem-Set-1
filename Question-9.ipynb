{
 "cells": [
  {
   "cell_type": "markdown",
   "metadata": {},
   "source": [
    "# Question 9\n",
    "\n",
    "The Sieve of Erastophenes is an algorithm -- known to ancient Greeks -- that finds\n",
    "all prime numbers up to a given number n. It does this by first creating a list L from\n",
    "2 to n and an (initially empty) list primeL. The algorithm then takes the first number\n",
    "in list L (2) and appends it to list primeL, and then removes 2 and all its multiples\n",
    "(4,6,8,10,12, ...) from L. The algorithm then takes the new first number in L (3) and\n",
    "appends it to list primeL, and then removes from L 3 and all its remaining multiples\n",
    "(9,15,21,...). So, in every iteration, the first number of list L is appended to list\n",
    "primeL and then it and its multiples are removed from list L. The iterations stop\n",
    "when list L becomes empty. Write a function sieve() that takes as input a positive\n",
    "integer n, implements the above algorithm, and returns a list of all prime numbers up\n",
    "to n."
   ]
  },
  {
   "cell_type": "code",
   "execution_count": 1,
   "metadata": {},
   "outputs": [],
   "source": [
    "def sieve(n):\n",
    "    L=[]\n",
    "    primeL=[]\n",
    "    for i in range(2,n+1):\n",
    "        L.append(i)\n",
    "\n",
    "        for a in range(i+i,n+1,i):\n",
    "    \n",
    "            primeL.append(a)\n",
    "\n",
    "\n",
    "    finalresult=[i for i in L if i not in primeL]\n",
    "    print(finalresult)\n",
    "\n",
    "    "
   ]
  },
  {
   "cell_type": "code",
   "execution_count": 2,
   "metadata": {},
   "outputs": [
    {
     "name": "stdout",
     "output_type": "stream",
     "text": [
      "[2, 3, 5, 7, 11, 13, 17, 19, 23, 29, 31, 37, 41, 43, 47, 53]\n"
     ]
    }
   ],
   "source": [
    "sieve(56)"
   ]
  },
  {
   "cell_type": "code",
   "execution_count": 3,
   "metadata": {},
   "outputs": [
    {
     "name": "stdout",
     "output_type": "stream",
     "text": [
      "[2, 3, 5, 7, 11, 13, 17, 19, 23, 29, 31, 37, 41, 43, 47, 53, 59, 61, 67, 71, 73, 79, 83, 89, 97, 101, 103, 107, 109, 113, 127, 131, 137, 139, 149, 151, 157, 163, 167, 173, 179, 181, 191, 193, 197, 199, 211, 223, 227, 229, 233, 239, 241, 251, 257, 263, 269, 271, 277, 281, 283, 293, 307, 311, 313, 317, 331, 337, 347, 349, 353, 359, 367]\n"
     ]
    }
   ],
   "source": [
    "sieve(368)"
   ]
  },
  {
   "cell_type": "code",
   "execution_count": 4,
   "metadata": {},
   "outputs": [
    {
     "name": "stdout",
     "output_type": "stream",
     "text": [
      "[2, 3, 5, 7, 11, 13, 17, 19, 23, 29, 31]\n"
     ]
    }
   ],
   "source": [
    "sieve(32)"
   ]
  },
  {
   "cell_type": "code",
   "execution_count": null,
   "metadata": {},
   "outputs": [],
   "source": []
  }
 ],
 "metadata": {
  "kernelspec": {
   "display_name": "Python 3",
   "language": "python",
   "name": "python3"
  },
  "language_info": {
   "codemirror_mode": {
    "name": "ipython",
    "version": 3
   },
   "file_extension": ".py",
   "mimetype": "text/x-python",
   "name": "python",
   "nbconvert_exporter": "python",
   "pygments_lexer": "ipython3",
   "version": "3.7.6"
  }
 },
 "nbformat": 4,
 "nbformat_minor": 4
}
